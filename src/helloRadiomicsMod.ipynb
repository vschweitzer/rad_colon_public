{
 "cells": [
  {
   "cell_type": "markdown",
   "metadata": {},
   "source": [
    "# Hello Radiomics example: using the feature extractor to calculate features"
   ]
  },
  {
   "cell_type": "markdown",
   "metadata": {},
   "source": [
    "This example shows how to use the radiomics package and the feature extractor.\n",
    "The feature extractor handles preprocessing, and then calls the needed featureclasses to calculate the features.\n",
    "It is also possible to directly instantiate the feature classes. However, this is not recommended for use outside debugging or development. For more information, see `helloFeatureClass`."
   ]
  },
  {
   "cell_type": "code",
   "execution_count": 12,
   "metadata": {
    "collapsed": false
   },
   "outputs": [],
   "source": [
    "from __future__ import print_function\n",
    "import sys\n",
    "import os\n",
    "import logging\n",
    "import six\n",
    "from radiomics import featureextractor, getFeatureClasses\n",
    "import radiomics"
   ]
  },
  {
   "cell_type": "code",
   "execution_count": 13,
   "metadata": {},
   "outputs": [],
   "source": [
    "class Dataset:\n",
    "    def __init__(self, csv_path: str = \"/media/watson/Dataset_V2/images_clean.csv\"):\n",
    "        \n",
    "        pass"
   ]
  },
  {
   "cell_type": "code",
   "execution_count": 19,
   "metadata": {},
   "outputs": [
    {
     "output_type": "stream",
     "name": "stdout",
     "text": [
      "non-pCR\nnon-PCR\nnon-PCR\npCR\nnon-pCR\nnon-PCR\nnon-pCR\nnon-PCR\nnon-PCR\nnon-PCR\npCR\nnon-PCR\nnon-PCR\nnon-pCR\npCR\nnon-pCR\nnon-PCR\nnon-PCR\nnon-pCR\nnon-PCR\nnon-PCR\nnon-pCR\npCR\nnon-PCR\nnon-pCR\nnon-pCR\nnon-pCR\nnon-pCR\nnon-pCR\nnon-pCR\nnon-pCR\nnon-pCR\nnon-pCR\nnon-pCR\npCR\nnon-pCR\nnon-pCR\nnon-pCR\nnon-pCR\nnon-pCR\nnon-pCR\nnon-pCR\nnon-pCR\nnon-pCR\nnon-pCR\nnon-pCR\nnon-pCR\nnon-pCR\nnon-pCR\nnon-pCR\nnon-pCR\npCR\nnon-pCR\nnon-pCR\npCR\nnon-pCR\nnon-pCR\nnon-pCR\nnon-pCR\npCR\nnon-pCR\nnon-pCR\npCR\npCR\npCR\nnon-pCR\nnon-pCR\nnon-pCR\nnon-pCR\nnon-pCR\nnon-pCR\nnon-pCR\npCR\nnon-pCR\nnon-pCR\nnon-pCR\nnon-pCR\nnon-pCR\nnon-pCR\npCR\nnon-PCR\npCR\nnon-PCR\nnon-PCR\nnon-PCR\nnon-pCR\nnon-pCR\nnon-PCR\nnon-PCR\nnon-PCR\nnon-PCR\nnon-PCR\npCR\npCR\npCR\npCR\npCR\npCR\npCR\npCR\npCR\npCR\n{'directory': '/media/watson/Dataset_V2', 'files': [{'data': '/media/watson/Dataset_V2/MR1.nii.gz', 'annotation': '/media/watson/Dataset_V2/MR1A.nii.gz', 'pcr': False}, {'data': '/media/watson/Dataset_V2/MR100.nii.gz', 'annotation': '/media/watson/Dataset_V2/MR100A.nii.gz', 'pcr': None}, {'data': '/media/watson/Dataset_V2/MR102.nii.gz', 'annotation': '/media/watson/Dataset_V2/MR102A.nii.gz', 'pcr': None}, {'data': '/media/watson/Dataset_V2/MR103.nii.gz', 'annotation': '/media/watson/Dataset_V2/MR103A.nii.gz', 'pcr': True}, {'data': '/media/watson/Dataset_V2/MR104.nii.gz', 'annotation': '/media/watson/Dataset_V2/MR104A.nii.gz', 'pcr': False}, {'data': '/media/watson/Dataset_V2/MR106.nii.gz', 'annotation': '/media/watson/Dataset_V2/MR106A.nii.gz', 'pcr': None}, {'data': '/media/watson/Dataset_V2/MR11.nii.gz', 'annotation': '/media/watson/Dataset_V2/MR11A.nii.gz', 'pcr': False}, {'data': '/media/watson/Dataset_V2/MR110.nii.gz', 'annotation': '/media/watson/Dataset_V2/MR110A.nii.gz', 'pcr': None}, {'data': '/media/watson/Dataset_V2/MR111.nii.gz', 'annotation': '/media/watson/Dataset_V2/MR111A.nii.gz', 'pcr': None}, {'data': '/media/watson/Dataset_V2/MR113.nii.gz', 'annotation': '/media/watson/Dataset_V2/MR113A.nii.gz', 'pcr': None}, {'data': '/media/watson/Dataset_V2/MR116.nii.gz', 'annotation': '/media/watson/Dataset_V2/MR116A.nii.gz', 'pcr': True}, {'data': '/media/watson/Dataset_V2/MR117.nii.gz', 'annotation': '/media/watson/Dataset_V2/MR117A.nii.gz', 'pcr': None}, {'data': '/media/watson/Dataset_V2/MR118.nii.gz', 'annotation': '/media/watson/Dataset_V2/MR118A.nii.gz', 'pcr': None}, {'data': '/media/watson/Dataset_V2/MR12.nii.gz', 'annotation': '/media/watson/Dataset_V2/MR12A.nii.gz', 'pcr': False}, {'data': '/media/watson/Dataset_V2/MR120.nii.gz', 'annotation': '/media/watson/Dataset_V2/MR120A.nii.gz', 'pcr': True}, {'data': '/media/watson/Dataset_V2/MR13.nii.gz', 'annotation': '/media/watson/Dataset_V2/MR13A.nii.gz', 'pcr': False}, {'data': '/media/watson/Dataset_V2/MR137.nii.gz', 'annotation': '/media/watson/Dataset_V2/MR137A.nii.gz', 'pcr': None}, {'data': '/media/watson/Dataset_V2/MR138.nii.gz', 'annotation': '/media/watson/Dataset_V2/MR138A.nii.gz', 'pcr': None}, {'data': '/media/watson/Dataset_V2/MR14.nii.gz', 'annotation': '/media/watson/Dataset_V2/MR14A.nii.gz', 'pcr': False}, {'data': '/media/watson/Dataset_V2/MR148.nii.gz', 'annotation': '/media/watson/Dataset_V2/MR148A.nii.gz', 'pcr': None}, {'data': '/media/watson/Dataset_V2/MR149.nii.gz', 'annotation': '/media/watson/Dataset_V2/MR149A.nii.gz', 'pcr': None}, {'data': '/media/watson/Dataset_V2/MR15.nii.gz', 'annotation': '/media/watson/Dataset_V2/MR15A.nii.gz', 'pcr': False}, {'data': '/media/watson/Dataset_V2/MR154.nii.gz', 'annotation': '/media/watson/Dataset_V2/MR154A.nii.gz', 'pcr': True}, {'data': '/media/watson/Dataset_V2/MR155.nii.gz', 'annotation': '/media/watson/Dataset_V2/MR155A.nii.gz', 'pcr': None}, {'data': '/media/watson/Dataset_V2/MR16.nii.gz', 'annotation': '/media/watson/Dataset_V2/MR16A.nii.gz', 'pcr': False}, {'data': '/media/watson/Dataset_V2/MR17.nii.gz', 'annotation': '/media/watson/Dataset_V2/MR17A.nii.gz', 'pcr': False}, {'data': '/media/watson/Dataset_V2/MR18.nii.gz', 'annotation': '/media/watson/Dataset_V2/MR18A.nii.gz', 'pcr': False}, {'data': '/media/watson/Dataset_V2/MR19.nii.gz', 'annotation': '/media/watson/Dataset_V2/MR19A.nii.gz', 'pcr': False}, {'data': '/media/watson/Dataset_V2/MR2.nii.gz', 'annotation': '/media/watson/Dataset_V2/MR2A.nii.gz', 'pcr': False}, {'data': '/media/watson/Dataset_V2/MR20.nii.gz', 'annotation': '/media/watson/Dataset_V2/MR20A.nii.gz', 'pcr': False}, {'data': '/media/watson/Dataset_V2/MR21.nii.gz', 'annotation': '/media/watson/Dataset_V2/MR21A.nii.gz', 'pcr': False}, {'data': '/media/watson/Dataset_V2/MR22.nii.gz', 'annotation': '/media/watson/Dataset_V2/MR22A.nii.gz', 'pcr': False}, {'data': '/media/watson/Dataset_V2/MR23.nii.gz', 'annotation': '/media/watson/Dataset_V2/MR23A.nii.gz', 'pcr': False}, {'data': '/media/watson/Dataset_V2/MR24.nii.gz', 'annotation': '/media/watson/Dataset_V2/MR24A.nii.gz', 'pcr': False}, {'data': '/media/watson/Dataset_V2/MR25.nii.gz', 'annotation': '/media/watson/Dataset_V2/MR25A.nii.gz', 'pcr': True}, {'data': '/media/watson/Dataset_V2/MR26.nii.gz', 'annotation': '/media/watson/Dataset_V2/MR26A.nii.gz', 'pcr': False}, {'data': '/media/watson/Dataset_V2/MR27.nii.gz', 'annotation': '/media/watson/Dataset_V2/MR27A.nii.gz', 'pcr': False}, {'data': '/media/watson/Dataset_V2/MR28.nii.gz', 'annotation': '/media/watson/Dataset_V2/MR28A.nii.gz', 'pcr': False}, {'data': '/media/watson/Dataset_V2/MR29.nii.gz', 'annotation': '/media/watson/Dataset_V2/MR29A.nii.gz', 'pcr': False}, {'data': '/media/watson/Dataset_V2/MR3.nii.gz', 'annotation': '/media/watson/Dataset_V2/MR3A.nii.gz', 'pcr': False}, {'data': '/media/watson/Dataset_V2/MR30.nii.gz', 'annotation': '/media/watson/Dataset_V2/MR30A.nii.gz', 'pcr': False}, {'data': '/media/watson/Dataset_V2/MR31.nii.gz', 'annotation': '/media/watson/Dataset_V2/MR31A.nii.gz', 'pcr': False}, {'data': '/media/watson/Dataset_V2/MR32.nii.gz', 'annotation': '/media/watson/Dataset_V2/MR32A.nii.gz', 'pcr': False}, {'data': '/media/watson/Dataset_V2/MR33.nii.gz', 'annotation': '/media/watson/Dataset_V2/MR33A.nii.gz', 'pcr': False}, {'data': '/media/watson/Dataset_V2/MR34.nii.gz', 'annotation': '/media/watson/Dataset_V2/MR34A.nii.gz', 'pcr': False}, {'data': '/media/watson/Dataset_V2/MR35.nii.gz', 'annotation': '/media/watson/Dataset_V2/MR35A.nii.gz', 'pcr': False}, {'data': '/media/watson/Dataset_V2/MR36.nii.gz', 'annotation': '/media/watson/Dataset_V2/MR36A.nii.gz', 'pcr': False}, {'data': '/media/watson/Dataset_V2/MR37.nii.gz', 'annotation': '/media/watson/Dataset_V2/MR37A.nii.gz', 'pcr': False}, {'data': '/media/watson/Dataset_V2/MR38.nii.gz', 'annotation': '/media/watson/Dataset_V2/MR38A.nii.gz', 'pcr': False}, {'data': '/media/watson/Dataset_V2/MR39.nii.gz', 'annotation': '/media/watson/Dataset_V2/MR39A.nii.gz', 'pcr': False}, {'data': '/media/watson/Dataset_V2/MR4.nii.gz', 'annotation': '/media/watson/Dataset_V2/MR4A.nii.gz', 'pcr': False}, {'data': '/media/watson/Dataset_V2/MR40.nii.gz', 'annotation': '/media/watson/Dataset_V2/MR40A.nii.gz', 'pcr': True}, {'data': '/media/watson/Dataset_V2/MR41.nii.gz', 'annotation': '/media/watson/Dataset_V2/MR41A.nii.gz', 'pcr': False}, {'data': '/media/watson/Dataset_V2/MR44.nii.gz', 'annotation': '/media/watson/Dataset_V2/MR44A.nii.gz', 'pcr': False}, {'data': '/media/watson/Dataset_V2/MR45.nii.gz', 'annotation': '/media/watson/Dataset_V2/MR45A.nii.gz', 'pcr': True}, {'data': '/media/watson/Dataset_V2/MR46.nii.gz', 'annotation': '/media/watson/Dataset_V2/MR46A.nii.gz', 'pcr': False}, {'data': '/media/watson/Dataset_V2/MR47.nii.gz', 'annotation': '/media/watson/Dataset_V2/MR47A.nii.gz', 'pcr': False}, {'data': '/media/watson/Dataset_V2/MR48.nii.gz', 'annotation': '/media/watson/Dataset_V2/MR48A.nii.gz', 'pcr': False}, {'data': '/media/watson/Dataset_V2/MR49.nii.gz', 'annotation': '/media/watson/Dataset_V2/MR49A.nii.gz', 'pcr': False}, {'data': '/media/watson/Dataset_V2/MR5.nii.gz', 'annotation': '/media/watson/Dataset_V2/MR5A.nii.gz', 'pcr': True}, {'data': '/media/watson/Dataset_V2/MR50.nii.gz', 'annotation': '/media/watson/Dataset_V2/MR50A.nii.gz', 'pcr': False}, {'data': '/media/watson/Dataset_V2/MR51.nii.gz', 'annotation': '/media/watson/Dataset_V2/MR51A.nii.gz', 'pcr': False}, {'data': '/media/watson/Dataset_V2/MR52.nii.gz', 'annotation': '/media/watson/Dataset_V2/MR52A.nii.gz', 'pcr': True}, {'data': '/media/watson/Dataset_V2/MR53.nii.gz', 'annotation': '/media/watson/Dataset_V2/MR53A.nii.gz', 'pcr': True}, {'data': '/media/watson/Dataset_V2/MR55.nii.gz', 'annotation': '/media/watson/Dataset_V2/MR55A.nii.gz', 'pcr': True}, {'data': '/media/watson/Dataset_V2/MR56.nii.gz', 'annotation': '/media/watson/Dataset_V2/MR56A.nii.gz', 'pcr': False}, {'data': '/media/watson/Dataset_V2/MR57.nii.gz', 'annotation': '/media/watson/Dataset_V2/MR57A.nii.gz', 'pcr': False}, {'data': '/media/watson/Dataset_V2/MR58.nii.gz', 'annotation': '/media/watson/Dataset_V2/MR58A.nii.gz', 'pcr': False}, {'data': '/media/watson/Dataset_V2/MR6.nii.gz', 'annotation': '/media/watson/Dataset_V2/MR6A.nii.gz', 'pcr': False}, {'data': '/media/watson/Dataset_V2/MR60.nii.gz', 'annotation': '/media/watson/Dataset_V2/MR60A.nii.gz', 'pcr': False}, {'data': '/media/watson/Dataset_V2/MR61.nii.gz', 'annotation': '/media/watson/Dataset_V2/MR61A.nii.gz', 'pcr': False}, {'data': '/media/watson/Dataset_V2/MR63.nii.gz', 'annotation': '/media/watson/Dataset_V2/MR63A.nii.gz', 'pcr': False}, {'data': '/media/watson/Dataset_V2/MR64.nii.gz', 'annotation': '/media/watson/Dataset_V2/MR64A.nii.gz', 'pcr': True}, {'data': '/media/watson/Dataset_V2/MR65.nii.gz', 'annotation': '/media/watson/Dataset_V2/MR65A.nii.gz', 'pcr': False}, {'data': '/media/watson/Dataset_V2/MR67.nii.gz', 'annotation': '/media/watson/Dataset_V2/MR67A.nii.gz', 'pcr': False}, {'data': '/media/watson/Dataset_V2/MR68.nii.gz', 'annotation': '/media/watson/Dataset_V2/MR68A.nii.gz', 'pcr': False}, {'data': '/media/watson/Dataset_V2/MR7.nii.gz', 'annotation': '/media/watson/Dataset_V2/MR7A.nii.gz', 'pcr': False}, {'data': '/media/watson/Dataset_V2/MR70.nii.gz', 'annotation': '/media/watson/Dataset_V2/MR70A.nii.gz', 'pcr': False}, {'data': '/media/watson/Dataset_V2/MR72.nii.gz', 'annotation': '/media/watson/Dataset_V2/MR72A.nii.gz', 'pcr': False}, {'data': '/media/watson/Dataset_V2/MR81.nii.gz', 'annotation': '/media/watson/Dataset_V2/MR81A.nii.gz', 'pcr': True}, {'data': '/media/watson/Dataset_V2/MR82.nii.gz', 'annotation': '/media/watson/Dataset_V2/MR82A.nii.gz', 'pcr': None}, {'data': '/media/watson/Dataset_V2/MR83.nii.gz', 'annotation': '/media/watson/Dataset_V2/MR83A.nii.gz', 'pcr': True}, {'data': '/media/watson/Dataset_V2/MR84.nii.gz', 'annotation': '/media/watson/Dataset_V2/MR84A.nii.gz', 'pcr': None}, {'data': '/media/watson/Dataset_V2/MR86.nii.gz', 'annotation': '/media/watson/Dataset_V2/MR86A.nii.gz', 'pcr': None}, {'data': '/media/watson/Dataset_V2/MR88.nii.gz', 'annotation': '/media/watson/Dataset_V2/MR88A.nii.gz', 'pcr': None}, {'data': '/media/watson/Dataset_V2/MR89.nii.gz', 'annotation': '/media/watson/Dataset_V2/MR89A.nii.gz', 'pcr': False}, {'data': '/media/watson/Dataset_V2/MR9.nii.gz', 'annotation': '/media/watson/Dataset_V2/MR9A.nii.gz', 'pcr': False}, {'data': '/media/watson/Dataset_V2/MR90.nii.gz', 'annotation': '/media/watson/Dataset_V2/MR90A.nii.gz', 'pcr': None}, {'data': '/media/watson/Dataset_V2/MR93.nii.gz', 'annotation': '/media/watson/Dataset_V2/MR93A.nii.gz', 'pcr': None}, {'data': '/media/watson/Dataset_V2/MR94.nii.gz', 'annotation': '/media/watson/Dataset_V2/MR94A.nii.gz', 'pcr': None}, {'data': '/media/watson/Dataset_V2/MR95.nii.gz', 'annotation': '/media/watson/Dataset_V2/MR95A.nii.gz', 'pcr': None}, {'data': '/media/watson/Dataset_V2/MR97.nii.gz', 'annotation': '/media/watson/Dataset_V2/MR97A.nii.gz', 'pcr': None}, {'data': '/media/watson/Dataset_V2/MO0100064652.nii.gz', 'annotation': '/media/watson/Dataset_V2/MO0100064652A.nii.gz', 'pcr': True}, {'data': '/media/watson/Dataset_V2/MO0100092133.nii.gz', 'annotation': '/media/watson/Dataset_V2/MO0100092133A.nii.gz', 'pcr': True}, {'data': '/media/watson/Dataset_V2/MO0100250310.nii.gz', 'annotation': '/media/watson/Dataset_V2/MO0100250310A.nii.gz', 'pcr': True}, {'data': '/media/watson/Dataset_V2/MO0100348170.nii.gz', 'annotation': '/media/watson/Dataset_V2/MO0100348170A.nii.gz', 'pcr': True}, {'data': '/media/watson/Dataset_V2/MO0500102760.nii.gz', 'annotation': '/media/watson/Dataset_V2/MO0500102760A.nii.gz', 'pcr': True}, {'data': '/media/watson/Dataset_V2/MO0500555022.nii.gz', 'annotation': '/media/watson/Dataset_V2/MO0500555022A.nii.gz', 'pcr': True}, {'data': '/media/watson/Dataset_V2/MO0500736905.nii.gz', 'annotation': '/media/watson/Dataset_V2/MO0500736905A.nii.gz', 'pcr': True}, {'data': '/media/watson/Dataset_V2/MO0500866237.nii.gz', 'annotation': '/media/watson/Dataset_V2/MO0500866237A.nii.gz', 'pcr': True}, {'data': '/media/watson/Dataset_V2/MO0501211094.nii.gz', 'annotation': '/media/watson/Dataset_V2/MO0501211094A.nii.gz', 'pcr': True}, {'data': '/media/watson/Dataset_V2/MO0501229884.nii.gz', 'annotation': '/media/watson/Dataset_V2/MO0501229884A.nii.gz', 'pcr': True}]}\n"
     ]
    }
   ],
   "source": [
    "def csv_to_json(csv_path: str = \"/media/watson/Dataset_V2/images_clean.csv\", annotation_suffix: str = \"A\", file_ending: str = \"nii.gz\"):\n",
    "    abs_dir = os.path.abspath(os.path.dirname(csv_path))\n",
    "    data_json: dict = {\"directory\": abs_dir, \"files\": []}\n",
    "    pcr_values: dict = {\"pCR\": True, \"non-pCR\": False}\n",
    "    with open(csv_path, \"r\") as csv:\n",
    "        for line in csv.readlines():\n",
    "            id, pcr = line.split(\",\")\n",
    "            pcr = pcr.strip()\n",
    "            file_path: str = os.path.join(data_json[\"directory\"], f\"{id}.{file_ending}\")\n",
    "            a_file_path: str = os.path.join(data_json[\"directory\"], f\"{id}{annotation_suffix}.{file_ending}\")\n",
    "            if os.path.exists(file_path) and os.path.exists(a_file_path):\n",
    "                data_entry = {\"data\": file_path, \"annotation\": a_file_path}\n",
    "                if pcr in pcr_values:\n",
    "                    data_entry[\"pcr\"] = pcr_values[pcr]\n",
    "                else:\n",
    "                    data_entry[\"pcr\"] = None\n",
    "                data_json[\"files\"].append(data_entry)\n",
    "    return data_json\n",
    "print(csv_to_json())"
   ]
  },
  {
   "cell_type": "markdown",
   "metadata": {},
   "source": [
    "## Setting up logging"
   ]
  },
  {
   "cell_type": "markdown",
   "metadata": {},
   "source": [
    "Regulate verbosity of PyRadiomics (outputs to stderr)"
   ]
  },
  {
   "cell_type": "code",
   "execution_count": 3,
   "metadata": {
    "collapsed": false
   },
   "outputs": [],
   "source": [
    "# Regulate verbosity with radiomics.setVerbosity\n",
    "radiomics.setVerbosity(logging.INFO)  # Use logging.DEBUG for maximum output, default verbosity level = WARNING"
   ]
  },
  {
   "cell_type": "markdown",
   "metadata": {},
   "source": [
    "Set up logging to a log file"
   ]
  },
  {
   "cell_type": "code",
   "execution_count": 4,
   "metadata": {
    "collapsed": true
   },
   "outputs": [],
   "source": [
    "# Get the PyRadiomics logger (default log-level = INFO)\n",
    "logger = radiomics.logger\n",
    "logger.setLevel(logging.DEBUG)  # set level to DEBUG to include debug log messages in log file\n",
    "\n",
    "# Write out all log entries to a file\n",
    "handler = logging.FileHandler(filename='testLog.txt', mode='w')\n",
    "formatter = logging.Formatter('%(levelname)s:%(name)s: %(message)s')\n",
    "handler.setFormatter(formatter)\n",
    "logger.addHandler(handler)"
   ]
  },
  {
   "cell_type": "markdown",
   "metadata": {},
   "source": [
    "## Getting the testcase"
   ]
  },
  {
   "cell_type": "markdown",
   "metadata": {},
   "source": [
    "Test cases can be downloaded to temporary files. This is handled by the `radiomics.getTestCase()` function, which checks if the requested test case is available and if not, downloads it. It returns a tuple with the location of the image and mask of the requested test case, or (None, None) if it fails.\n",
    "\n",
    "Alternatively, if the data is available somewhere locally, this directory can be passed as a second argument to `radiomics.getTestCase()`. If that directory does not exist or does not contain the testcase, functionality reverts to default and tries to download the test data.\n",
    "\n",
    "If getting the test case fails, PyRadiomics will log an error explaining the cause."
   ]
  },
  {
   "cell_type": "code",
   "execution_count": 5,
   "metadata": {
    "collapsed": false
   },
   "outputs": [
    {
     "output_type": "stream",
     "name": "stdout",
     "text": [
      "Image/Mask: /media/watson/Dataset_V2/MR100.nii.gz//media/watson/Dataset_V2/MR100A.nii.gz\n"
     ]
    }
   ],
   "source": [
    "featureClasses = getFeatureClasses()\n",
    "# Hardcode path to a scan\n",
    "# imageName, maskName = radiomics.getTestCase('brain1')\n",
    "imageDir = \"/media/watson/Dataset_V2\"\n",
    "imageName = imageDir + \"/MR100.nii.gz\"\n",
    "maskName = imageDir + \"/MR100A.nii.gz\"\n",
    "\n",
    "if imageName is None or maskName is None:  # Something went wrong, in this case PyRadiomics will also log an error\n",
    "    raise Exception('Error getting testcase!')  # Raise exception to prevent cells below from running in case of \"run all\"\n",
    "else:\n",
    "    print(f\"Image/Mask: {imageName}/{maskName}\")"
   ]
  },
  {
   "cell_type": "markdown",
   "metadata": {},
   "source": [
    "## Initializing the feature extractor"
   ]
  },
  {
   "cell_type": "markdown",
   "metadata": {},
   "source": [
    "#### Extraction Settings"
   ]
  },
  {
   "cell_type": "code",
   "execution_count": 6,
   "metadata": {
    "collapsed": false
   },
   "outputs": [
    {
     "output_type": "error",
     "ename": "OSError",
     "evalue": "Parameter file ../examples/exampleSettings/allTest.yaml does not exist.",
     "traceback": [
      "\u001b[0;31m---------------------------------------------------------------------------\u001b[0m",
      "\u001b[0;31mOSError\u001b[0m                                   Traceback (most recent call last)",
      "\u001b[0;32m<ipython-input-6-68a9db769750>\u001b[0m in \u001b[0;36m<module>\u001b[0;34m\u001b[0m\n\u001b[1;32m      3\u001b[0m \u001b[0mparams\u001b[0m \u001b[0;34m=\u001b[0m \u001b[0mos\u001b[0m\u001b[0;34m.\u001b[0m\u001b[0mpath\u001b[0m\u001b[0;34m.\u001b[0m\u001b[0mjoin\u001b[0m\u001b[0;34m(\u001b[0m\u001b[0;34m'..'\u001b[0m\u001b[0;34m,\u001b[0m \u001b[0;34m'examples'\u001b[0m\u001b[0;34m,\u001b[0m \u001b[0;34m'exampleSettings'\u001b[0m\u001b[0;34m,\u001b[0m \u001b[0;34m'allTest.yaml'\u001b[0m\u001b[0;34m)\u001b[0m\u001b[0;34m\u001b[0m\u001b[0;34m\u001b[0m\u001b[0m\n\u001b[1;32m      4\u001b[0m \u001b[0;34m\u001b[0m\u001b[0m\n\u001b[0;32m----> 5\u001b[0;31m \u001b[0mextractor\u001b[0m \u001b[0;34m=\u001b[0m \u001b[0mfeatureextractor\u001b[0m\u001b[0;34m.\u001b[0m\u001b[0mRadiomicsFeatureExtractor\u001b[0m\u001b[0;34m(\u001b[0m\u001b[0mparams\u001b[0m\u001b[0;34m)\u001b[0m\u001b[0;34m\u001b[0m\u001b[0;34m\u001b[0m\u001b[0m\n\u001b[0m",
      "\u001b[0;32m~/Documents/rad_colon/src/venv/lib/python3.9/site-packages/radiomics/featureextractor.py\u001b[0m in \u001b[0;36m__init__\u001b[0;34m(self, *args, **kwargs)\u001b[0m\n\u001b[1;32m     59\u001b[0m     \u001b[0;32melif\u001b[0m \u001b[0mlen\u001b[0m\u001b[0;34m(\u001b[0m\u001b[0margs\u001b[0m\u001b[0;34m)\u001b[0m \u001b[0;34m==\u001b[0m \u001b[0;36m1\u001b[0m \u001b[0;32mand\u001b[0m \u001b[0;34m(\u001b[0m\u001b[0misinstance\u001b[0m\u001b[0;34m(\u001b[0m\u001b[0margs\u001b[0m\u001b[0;34m[\u001b[0m\u001b[0;36m0\u001b[0m\u001b[0;34m]\u001b[0m\u001b[0;34m,\u001b[0m \u001b[0msix\u001b[0m\u001b[0;34m.\u001b[0m\u001b[0mstring_types\u001b[0m\u001b[0;34m)\u001b[0m \u001b[0;32mor\u001b[0m \u001b[0misinstance\u001b[0m\u001b[0;34m(\u001b[0m\u001b[0margs\u001b[0m\u001b[0;34m[\u001b[0m\u001b[0;36m0\u001b[0m\u001b[0;34m]\u001b[0m\u001b[0;34m,\u001b[0m \u001b[0mpathlib\u001b[0m\u001b[0;34m.\u001b[0m\u001b[0mPurePath\u001b[0m\u001b[0;34m)\u001b[0m\u001b[0;34m)\u001b[0m\u001b[0;34m:\u001b[0m\u001b[0;34m\u001b[0m\u001b[0;34m\u001b[0m\u001b[0m\n\u001b[1;32m     60\u001b[0m       \u001b[0;32mif\u001b[0m \u001b[0;32mnot\u001b[0m \u001b[0mos\u001b[0m\u001b[0;34m.\u001b[0m\u001b[0mpath\u001b[0m\u001b[0;34m.\u001b[0m\u001b[0misfile\u001b[0m\u001b[0;34m(\u001b[0m\u001b[0margs\u001b[0m\u001b[0;34m[\u001b[0m\u001b[0;36m0\u001b[0m\u001b[0;34m]\u001b[0m\u001b[0;34m)\u001b[0m\u001b[0;34m:\u001b[0m\u001b[0;34m\u001b[0m\u001b[0;34m\u001b[0m\u001b[0m\n\u001b[0;32m---> 61\u001b[0;31m         \u001b[0;32mraise\u001b[0m \u001b[0mIOError\u001b[0m\u001b[0;34m(\u001b[0m\u001b[0;34m\"Parameter file %s does not exist.\"\u001b[0m \u001b[0;34m%\u001b[0m \u001b[0margs\u001b[0m\u001b[0;34m[\u001b[0m\u001b[0;36m0\u001b[0m\u001b[0;34m]\u001b[0m\u001b[0;34m)\u001b[0m\u001b[0;34m\u001b[0m\u001b[0;34m\u001b[0m\u001b[0m\n\u001b[0m\u001b[1;32m     62\u001b[0m       \u001b[0mlogger\u001b[0m\u001b[0;34m.\u001b[0m\u001b[0minfo\u001b[0m\u001b[0;34m(\u001b[0m\u001b[0;34m\"Loading parameter file %s\"\u001b[0m\u001b[0;34m,\u001b[0m \u001b[0mstr\u001b[0m\u001b[0;34m(\u001b[0m\u001b[0margs\u001b[0m\u001b[0;34m[\u001b[0m\u001b[0;36m0\u001b[0m\u001b[0;34m]\u001b[0m\u001b[0;34m)\u001b[0m\u001b[0;34m)\u001b[0m\u001b[0;34m\u001b[0m\u001b[0;34m\u001b[0m\u001b[0m\n\u001b[1;32m     63\u001b[0m       \u001b[0mself\u001b[0m\u001b[0;34m.\u001b[0m\u001b[0m_applyParams\u001b[0m\u001b[0;34m(\u001b[0m\u001b[0mparamsFile\u001b[0m\u001b[0;34m=\u001b[0m\u001b[0margs\u001b[0m\u001b[0;34m[\u001b[0m\u001b[0;36m0\u001b[0m\u001b[0;34m]\u001b[0m\u001b[0;34m)\u001b[0m\u001b[0;34m\u001b[0m\u001b[0;34m\u001b[0m\u001b[0m\n",
      "\u001b[0;31mOSError\u001b[0m: Parameter file ../examples/exampleSettings/allTest.yaml does not exist."
     ]
    }
   ],
   "source": [
    "# Use a parameter file, this customizes the extraction settings and also specifies the input image types to use and which features should be extracted\n",
    "# Use example params for now\n",
    "params = os.path.join('..', 'examples', 'exampleSettings', 'allTest.yaml')\n",
    "\n",
    "extractor = featureextractor.RadiomicsFeatureExtractor(params)"
   ]
  },
  {
   "cell_type": "code",
   "execution_count": 15,
   "metadata": {
    "collapsed": false
   },
   "outputs": [],
   "source": [
    "# Alternative: use hardcoded settings (separate for settings, input image types and enabled features)\n",
    "#settings = {}\n",
    "#settings['binWidth'] = 25\n",
    "#settings['resampledPixelSpacing'] = None\n",
    "# settings['resampledPixelSpacing'] = [3, 3, 3]  # This is an example for defining resampling (voxels with size 3x3x3mm)\n",
    "#settings['interpolator'] = 'sitkBSpline'\n",
    "#settings['verbose'] = True\n",
    "\n",
    "# Skip this for now\n",
    "# extractor = featureextractor.RadiomicsFeatureExtractor(**settings)"
   ]
  },
  {
   "cell_type": "markdown",
   "metadata": {},
   "source": [
    "#### Input images: applying filters"
   ]
  },
  {
   "cell_type": "code",
   "execution_count": 16,
   "metadata": {
    "collapsed": false
   },
   "outputs": [
    {
     "output_type": "stream",
     "name": "stdout",
     "text": [
      "Enabled input images:\n\tOriginal\n"
     ]
    }
   ],
   "source": [
    "# By default, only 'Original' (no filter applied) is enabled. Optionally enable some image types:\n",
    "\n",
    "# extractor.enableImageTypeByName('Wavelet')\n",
    "# extractor.enableImageTypeByName('LoG', customArgs={'sigma':[3.0]})\n",
    "# extractor.enableImageTypeByName('Square')\n",
    "# extractor.enableImageTypeByName('SquareRoot')\n",
    "# extractor.enableImageTypeByName('Exponential')\n",
    "# extractor.enableImageTypeByName('Logarithm')\n",
    "\n",
    "# Alternative; set filters in one operation \n",
    "# This updates current enabled image types, i.e. overwrites custom settings specified per filter. \n",
    "# However, image types already enabled, but not passed in this call, are not disabled or altered.\n",
    "\n",
    "# extractor.enableImageTypes(Wavelet={}, LoG={'sigma':[3.0]})\n",
    "\n",
    "print('Enabled input images:')\n",
    "for imageType in extractor.enabledImagetypes.keys():\n",
    "    print('\\t' + imageType)"
   ]
  },
  {
   "cell_type": "markdown",
   "metadata": {},
   "source": [
    "#### Feature classes: setting which feature(classes) need to be calculated"
   ]
  },
  {
   "cell_type": "code",
   "execution_count": 17,
   "metadata": {
    "collapsed": false
   },
   "outputs": [],
   "source": [
    "# Enable all features\n",
    "#extractor.enableAllFeatures()\n",
    "\n",
    "# Disable all classes\n",
    "#extractor.disableAllFeatures()\n",
    "\n",
    "# Enable all features in firstorder\n",
    "#extractor.enableFeatureClassByName('firstorder')\n",
    "\n",
    "# Alternative; only enable 'Mean' and 'Skewness' features in firstorder\n",
    "# extractor.enableFeaturesByName(firstorder=['Mean', 'Skewness'])"
   ]
  },
  {
   "cell_type": "markdown",
   "metadata": {},
   "source": [
    "## Getting the docstrings of the active features"
   ]
  },
  {
   "cell_type": "code",
   "execution_count": 18,
   "metadata": {
    "collapsed": false
   },
   "outputs": [
    {
     "output_type": "stream",
     "name": "stdout",
     "text": [
      "Active features:\nAutocorrelation\n\n    **1. Autocorrelation**\n\n    .. math::\n      \\textit{autocorrelation} = \\displaystyle\\sum^{N_g}_{i=1}\\displaystyle\\sum^{N_g}_{j=1}{p(i,j)ij}\n\n    Autocorrelation is a measure of the magnitude of the fineness and coarseness of texture.\n    \nJointAverage\n\n    **2. Joint Average**\n\n    .. math::\n      \\textit{joint average} = \\mu_x = \\displaystyle\\sum^{N_g}_{i=1}\\displaystyle\\sum^{N_g}_{j=1}{p(i,j)i}\n\n    Returns the mean gray level intensity of the :math:`i` distribution.\n\n    .. warning::\n      As this formula represents the average of the distribution of :math:`i`, it is independent from the\n      distribution of :math:`j`. Therefore, only use this formula if the GLCM is symmetrical, where\n      :math:`p_x(i) = p_y(j) \\text{, where } i = j`.\n    \nClusterProminence\n\n    **3. Cluster Prominence**\n\n    .. math::\n      \\textit{cluster prominence} = \\displaystyle\\sum^{N_g}_{i=1}\\displaystyle\\sum^{N_g}_{j=1}\n      {\\big( i+j-\\mu_x-\\mu_y\\big)^4p(i,j)}\n\n    Cluster Prominence is a measure of the skewness and asymmetry of the GLCM. A higher values implies more asymmetry\n    about the mean while a lower value indicates a peak near the mean value and less variation about the mean.\n    \nClusterShade\n\n    **4. Cluster Shade**\n\n    .. math::\n      \\textit{cluster shade} = \\displaystyle\\sum^{N_g}_{i=1}\\displaystyle\\sum^{N_g}_{j=1}\n      {\\big(i+j-\\mu_x-\\mu_y\\big)^3p(i,j)}\n\n    Cluster Shade is a measure of the skewness and uniformity of the GLCM.\n    A higher cluster shade implies greater asymmetry about the mean.\n    \nClusterTendency\n\n    **5. Cluster Tendency**\n\n    .. math::\n      \\textit{cluster tendency} = \\displaystyle\\sum^{N_g}_{i=1}\\displaystyle\\sum^{N_g}_{j=1}\n      {\\big(i+j-\\mu_x-\\mu_y\\big)^2p(i,j)}\n\n    Cluster Tendency is a measure of groupings of voxels with similar gray-level values.\n    \nContrast\n\n    **6. Contrast**\n\n    .. math::\n      \\textit{contrast} = \\displaystyle\\sum^{N_g}_{i=1}\\displaystyle\\sum^{N_g}_{j=1}{(i-j)^2p(i,j)}\n\n    Contrast is a measure of the local intensity variation, favoring values away from the diagonal :math:`(i = j)`. A\n    larger value correlates with a greater disparity in intensity values among neighboring voxels.\n    \nCorrelation\n\n    **7. Correlation**\n\n    .. math::\n      \\textit{correlation} = \\frac{\\sum^{N_g}_{i=1}\\sum^{N_g}_{j=1}{p(i,j)ij-\\mu_x\\mu_y}}{\\sigma_x(i)\\sigma_y(j)}\n\n    Correlation is a value between 0 (uncorrelated) and 1 (perfectly correlated) showing the\n    linear dependency of gray level values to their respective voxels in the GLCM.\n\n    .. note::\n      When there is only 1 discreet gray value in the ROI (flat region), :math:`\\sigma_x` and :math:`\\sigma_y` will be\n      0. In this case, an arbitrary value of 1 is returned instead. This is assessed on a per-angle basis.\n    \nDifferenceAverage\n\n    **8. Difference Average**\n\n    .. math::\n      \\textit{difference average} = \\displaystyle\\sum^{N_g-1}_{k=0}{kp_{x-y}(k)}\n\n    Difference Average measures the relationship between occurrences of pairs\n    with similar intensity values and occurrences of pairs with differing intensity\n    values.\n    \nDifferenceEntropy\n\n    **9. Difference Entropy**\n\n    .. math::\n      \\textit{difference entropy} = \\displaystyle\\sum^{N_g-1}_{k=0}{p_{x-y}(k)\\log_2\\big(p_{x-y}(k)+\\epsilon\\big)}\n\n    Difference Entropy is a measure of the randomness/variability\n    in neighborhood intensity value differences.\n    \nDifferenceVariance\n\n    **10. Difference Variance**\n\n    .. math::\n      \\textit{difference variance} = \\displaystyle\\sum^{N_g-1}_{k=0}{(k-DA)^2p_{x-y}(k)}\n\n    Difference Variance is a measure of heterogeneity that places higher weights on\n    differing intensity level pairs that deviate more from the mean.\n    \nJointEnergy\n\n    **11. Joint Energy**\n\n    .. math::\n      \\textit{joint energy} = \\displaystyle\\sum^{N_g}_{i=1}\\displaystyle\\sum^{N_g}_{j=1}{\\big(p(i,j)\\big)^2}\n\n    Energy is a measure of homogeneous patterns\n    in the image. A greater Energy implies that there are more instances\n    of intensity value pairs in the image that neighbor each other at\n    higher frequencies.\n\n    .. note::\n      Defined by IBSI as Angular Second Moment.\n    \nJointEntropy\n\n    **12. Joint Entropy**\n\n    .. math::\n      \\textit{joint entropy} = -\\displaystyle\\sum^{N_g}_{i=1}\\displaystyle\\sum^{N_g}_{j=1}\n      {p(i,j)\\log_2\\big(p(i,j)+\\epsilon\\big)}\n\n\n    Joint entropy is a measure of the randomness/variability in neighborhood intensity values.\n\n    .. note::\n      Defined by IBSI as Joint entropy\n    \nImc1\n\n    **13. Informational Measure of Correlation (IMC) 1**\n\n    .. math::\n\n      \\textit{IMC 1} = \\displaystyle\\frac{HXY-HXY1}{\\max\\{HX,HY\\}}\n\n    IMC1 assesses the correlation between the probability distributions of :math:`i` and :math:`j` (quantifying the\n    complexity of the texture), using mutual information I(x, y):\n\n    .. math::\n\n      I(i, j) = \\sum^{N_g}_{i=1}\\sum^{N_g}_{j=1}{p(i,j)\\log_2\\big(\\frac{p(i,j)}{p_x(i)p_y(j)}\\big)}\n\n              = \\sum^{N_g}_{i=1}\\sum^{N_g}_{j=1}{p(i,j)\\big(\\log_2 (p(i,j)) - \\log_2 (p_x(i)p_y(j))\\big)}\n\n              = \\sum^{N_g}_{i=1}\\sum^{N_g}_{j=1}{p(i,j)\\log_2 \\big(p(i,j)\\big)} -\n                \\sum^{N_g}_{i=1}\\sum^{N_g}_{j=1}{p(i,j)\\log_2 \\big(p_x(i)p_y(j)\\big)}\n\n              = -HXY + HXY1\n\n    However, in this formula, the numerator is defined as HXY - HXY1 (i.e. :math:`-I(x, y)`), and is\n    therefore :math:`\\leq 0`. This reflects how this feature is defined in the original Haralick paper.\n\n    In the case where the distributions are independent, there is no mutual information and the result will therefore be\n    0. In the case of uniform distribution with complete dependence, mutual information will be equal to\n    :math:`\\log_2(N_g)`.\n\n    Finally, :math:`HXY - HXY1` is divided by the maximum of the 2 marginal entropies, where in the latter case of\n    complete dependence (not necessarily uniform; low complexity) it will result in :math:`IMC1 = -1`, as\n    :math:`HX = HY = I(i, j)`.\n\n    .. note::\n\n      In the case where both HX and HY are 0 (as is the case in a flat region), an arbitrary value of 0 is returned to\n      prevent a division by 0. This is done on a per-angle basis (i.e. prior to any averaging).\n    \nImc2\n\n    **14. Informational Measure of Correlation (IMC) 2**\n\n    .. math::\n\n      \\textit{IMC 2} = \\displaystyle\\sqrt{1-e^{-2(HXY2-HXY)}}\n\n    IMC2 also assesses the correlation between the probability distributions of :math:`i` and :math:`j` (quantifying the\n    complexity of the texture). Of interest is to note that :math:`HXY1 = HXY2` and that :math:`HXY2 - HXY \\geq 0`\n    represents the mutual information of the 2 distributions. Therefore, the range of IMC2 = [0, 1), with 0 representing\n    the case of 2 independent distributions (no mutual information) and the maximum value representing the case of 2\n    fully dependent and uniform distributions (maximal mutual information, equal to :math:`\\log_2(N_g)`). In this latter\n    case, the maximum value is then equal to :math:`\\displaystyle\\sqrt{1-e^{-2\\log_2(N_g)}}`, approaching 1.\n\n    .. note::\n\n      Due to machine precision errors, it is possble that HXY > HXY2, which would result in returning complex numbers.\n      In these cases, a value of 0 is returned for IMC2. This is done on a per-angle basis (i.e. prior to any\n      averaging).\n    \nIdm\n\n    **15. Inverse Difference Moment (IDM)**\n\n    .. math::\n      \\textit{IDM} = \\displaystyle\\sum^{N_g-1}_{k=0}{\\frac{p_{x-y}(k)}{1+k^2}}\n\n    IDM (a.k.a Homogeneity 2) is a measure of the local\n    homogeneity of an image. IDM weights are the inverse of the Contrast\n    weights (decreasing exponentially from the diagonal i=j in the GLCM).\n    \nIdmn\n\n    **17. Inverse Difference Moment Normalized (IDMN)**\n\n    .. math::\n      \\textit{IDMN} = \\displaystyle\\sum^{N_g-1}_{k=0}{ \\frac{p_{x-y}(k)}{1+\\left(\\frac{k^2}{N_g^2}\\right)} }\n\n    IDMN (inverse difference moment normalized)  is a measure of the local\n    homogeneity of an image. IDMN weights are the inverse of the Contrast\n    weights (decreasing exponentially from the diagonal :math:`i=j` in the GLCM).\n    Unlike Homogeneity2, IDMN normalizes the square of the difference between\n    neighboring intensity values by dividing over the square of the total\n    number of discrete intensity values.\n    \nId\n\n    **18. Inverse Difference (ID)**\n\n    .. math::\n      \\textit{ID} = \\displaystyle\\sum^{N_g-1}_{k=0}{\\frac{p_{x-y}(k)}{1+k}}\n\n    ID (a.k.a. Homogeneity 1) is another measure of the local homogeneity of an image.\n    With more uniform gray levels, the denominator will remain low, resulting in a higher overall value.\n    \nIdn\n\n    **19. Inverse Difference Normalized (IDN)**\n\n    .. math::\n      \\textit{IDN} = \\displaystyle\\sum^{N_g-1}_{k=0}{ \\frac{p_{x-y}(k)}{1+\\left(\\frac{k}{N_g}\\right)} }\n\n    IDN (inverse difference normalized) is another measure of the local\n    homogeneity of an image. Unlike Homogeneity1, IDN normalizes the difference\n    between the neighboring intensity values by dividing over the total number\n    of discrete intensity values.\n    \nInverseVariance\n\n    **20. Inverse Variance**\n\n    .. math::\n      \\textit{inverse variance} = \\displaystyle\\sum^{N_g-1}_{k=1}{\\frac{p_{x-y}(k)}{k^2}}\n\n    Note that :math:`k=0` is skipped, as this would result in a division by 0.\n    \nMaximumProbability\n\n    **21. Maximum Probability**\n\n    .. math::\n\n      \\textit{maximum probability} = \\max\\big(p(i,j)\\big)\n\n    Maximum Probability is occurrences of the most predominant pair of\n    neighboring intensity values.\n\n    .. note::\n      Defined by IBSI as Joint maximum\n    \nSumEntropy\n\n    **23. Sum Entropy**\n\n    .. math::\n\n      \\textit{sum entropy} = \\displaystyle\\sum^{2N_g}_{k=2}{p_{x+y}(k)\\log_2\\big(p_{x+y}(k)+\\epsilon\\big)}\n\n    Sum Entropy is a sum of neighborhood intensity value differences.\n    \nSumSquares\n\n    **24. Sum of Squares**\n\n    .. math::\n\n      \\textit{sum squares} = \\displaystyle\\sum^{N_g}_{i=1}\\displaystyle\\sum^{N_g}_{j=1}{(i-\\mu_x)^2p(i,j)}\n\n    Sum of Squares or Variance is a measure in the distribution of neigboring intensity level pairs\n    about the mean intensity level in the GLCM.\n\n    .. warning::\n\n      This formula represents the variance of the distribution of :math:`i` and is independent from the distribution\n      of :math:`j`. Therefore, only use this formula if the GLCM is symmetrical, where\n      :math:`p_x(i) = p_y(j) \\text{, where } i = j`\n\n    .. note::\n      Defined by IBSI as Joint Variance\n    \n"
     ]
    }
   ],
   "source": [
    "print('Active features:')\n",
    "for cls, features in six.iteritems(extractor.enabledFeatures):\n",
    "    if features is None or len(features) == 0:\n",
    "        features = [f for f, deprecated in six.iteritems(featureClasses[cls].getFeatureNames()) if not deprecated]\n",
    "    for f in features:\n",
    "        print(f)\n",
    "        print(getattr(featureClasses[cls], 'get%sFeatureValue' % f).__doc__)"
   ]
  },
  {
   "cell_type": "markdown",
   "metadata": {},
   "source": [
    "## Calculating the values of the active features"
   ]
  },
  {
   "cell_type": "code",
   "execution_count": 19,
   "metadata": {
    "collapsed": false
   },
   "outputs": [
    {
     "output_type": "stream",
     "name": "stderr",
     "text": [
      "Calculating features with label: 1\n",
      "Loading image and mask\n",
      "Calculating features\n",
      "Computing shape\n",
      "Adding image type \"Original\" with custom settings: {}\n",
      "Calculating features for original image\n",
      "Computing firstorder\n",
      "Computing glcm\n",
      "Computing glrlm\n",
      "Computing glszm\n",
      "Computing gldm\n"
     ]
    }
   ],
   "source": [
    "print('Calculating features')\n",
    "featureVector = extractor.execute(imageName, maskName)"
   ]
  },
  {
   "cell_type": "code",
   "execution_count": 20,
   "metadata": {
    "collapsed": false
   },
   "outputs": [
    {
     "output_type": "stream",
     "name": "stdout",
     "text": [
      "Computed diagnostics_Versions_PyRadiomics: v3.0.1.post3+g0c53d1d\nComputed diagnostics_Versions_Numpy: 1.20.1\nComputed diagnostics_Versions_SimpleITK: 2.0.2\nComputed diagnostics_Versions_PyWavelet: 1.1.1\nComputed diagnostics_Versions_Python: 3.9.1\nComputed diagnostics_Configuration_Settings: {'minimumROIDimensions': 2, 'minimumROISize': None, 'normalize': False, 'normalizeScale': 1, 'removeOutliers': None, 'resampledPixelSpacing': None, 'interpolator': 'sitkBSpline', 'preCrop': False, 'padDistance': 5, 'distances': [1], 'force2D': False, 'force2Ddimension': 0, 'resegmentRange': None, 'label': 1, 'additionalInfo': True, 'binWidth': 25, 'weightingNorm': None}\nComputed diagnostics_Configuration_EnabledImageTypes: {'Original': {}}\nComputed diagnostics_Image-original_Hash: 44580d91051adebde24534d74bcd5a17dd138f62\nComputed diagnostics_Image-original_Dimensionality: 3D\nComputed diagnostics_Image-original_Spacing: (0.78125, 0.78125, 6.5)\nComputed diagnostics_Image-original_Size: (320, 320, 25)\nComputed diagnostics_Image-original_Mean: 202.010874609375\nComputed diagnostics_Image-original_Minimum: 0.0\nComputed diagnostics_Image-original_Maximum: 1240.0\nComputed diagnostics_Mask-original_Hash: 4f0c6037437a475ba26642a7fa215a99b7a85224\nComputed diagnostics_Mask-original_Spacing: (0.78125, 0.78125, 6.5)\nComputed diagnostics_Mask-original_Size: (320, 320, 25)\nComputed diagnostics_Mask-original_BoundingBox: (110, 206, 15, 46, 61, 1)\nComputed diagnostics_Mask-original_VoxelNum: 1613\nComputed diagnostics_Mask-original_VolumeNum: 2\nComputed diagnostics_Mask-original_CenterOfMassIndex: (132.3446993180409, 239.18040917544948, 15.0)\nComputed diagnostics_Mask-original_CenterOfMass: (-15.568039718463112, 40.669594476029545, 83.75041196984421)\nComputed original_shape_Elongation: 0.6137709061915065\nComputed original_shape_Flatness: 0.0\nComputed original_shape_LeastAxisLength: 0.0\nComputed original_shape_MajorAxisLength: 49.80995850240703\nComputed original_shape_Maximum2DDiameterColumn: 35.9375\nComputed original_shape_Maximum2DDiameterRow: 47.65625\nComputed original_shape_Maximum2DDiameterSlice: 48.72645665472711\nComputed original_shape_Maximum3DDiameter: 48.72645665472711\nComputed original_shape_MeshVolume: 6189.2954508463545\nComputed original_shape_MinorAxisLength: 30.571903367383694\nComputed original_shape_Sphericity: 0.535450208568849\nComputed original_shape_SurfaceArea: 3044.5691477951873\nComputed original_shape_SurfaceVolumeRatio: 0.49190884034771004\nComputed original_shape_VoxelVolume: 6399.23095703125\nComputed original_firstorder_10Percentile: 238.20000000000002\nComputed original_firstorder_90Percentile: 377.0\nComputed original_firstorder_Energy: 154106592.0\nComputed original_firstorder_Entropy: 3.2060631862731452\nComputed original_firstorder_InterquartileRange: 70.0\nComputed original_firstorder_Kurtosis: 4.461317673036826\nComputed original_firstorder_Maximum: 605.0\nComputed original_firstorder_MeanAbsoluteDeviation: 44.366524468544284\nComputed original_firstorder_Mean: 303.61934283942963\nComputed original_firstorder_Median: 297.0\nComputed original_firstorder_Minimum: 140.0\nComputed original_firstorder_Range: 465.0\nComputed original_firstorder_RobustMeanAbsoluteDeviation: 29.28397692446367\nComputed original_firstorder_RootMeanSquared: 309.0960281509985\nComputed original_firstorder_Skewness: 0.76871654068367\nComputed original_firstorder_TotalEnergy: 611384794.921875\nComputed original_firstorder_Uniformity: 0.13254481854461328\nComputed original_firstorder_Variance: 3355.6492724757654\nComputed original_glcm_Autocorrelation: 62.331914628002245\nComputed original_glcm_JointAverage: 7.651523910440082\nComputed original_glcm_ClusterProminence: 1263.3795746570197\nComputed original_glcm_ClusterShade: 51.5751008759746\nComputed original_glcm_ClusterTendency: 18.03303438247392\nComputed original_glcm_Contrast: 2.888990153458986\nComputed original_glcm_Correlation: 0.7233971442680592\nComputed original_glcm_DifferenceAverage: 1.2247856828194275\nComputed original_glcm_DifferenceEntropy: 2.024691883230647\nComputed original_glcm_DifferenceVariance: 1.369188820896686\nComputed original_glcm_JointEnergy: 0.028775899317639395\nComputed original_glcm_JointEntropy: 5.7246735164748435\nComputed original_glcm_Imc1: -0.19925436646978312\nComputed original_glcm_Imc2: 0.84187163761108\nComputed original_glcm_Idm: 0.5309750228362614\nComputed original_glcm_Idmn: 0.9930345222372503\nComputed original_glcm_Id: 0.573537571000665\nComputed original_glcm_Idn: 0.9449835301735104\nComputed original_glcm_InverseVariance: 0.47283466043762673\nComputed original_glcm_MaximumProbability: 0.07167758224624242\nComputed original_glcm_SumEntropy: 4.059759257613537\nComputed original_glcm_SumSquares: 5.230506133983228\nComputed original_glrlm_GrayLevelNonUniformity: 148.86319979667306\nComputed original_glrlm_GrayLevelNonUniformityNormalized: 0.1248388410291933\nComputed original_glrlm_GrayLevelVariance: 6.050264186585579\nComputed original_glrlm_HighGrayLevelRunEmphasis: 66.39338536585197\nComputed original_glrlm_LongRunEmphasis: 2.338785107460773\nComputed original_glrlm_LongRunHighGrayLevelEmphasis: 143.05771696850428\nComputed original_glrlm_LongRunLowGrayLevelEmphasis: 0.054891031129176766\nComputed original_glrlm_LowGrayLevelRunEmphasis: 0.02408912143023397\nComputed original_glrlm_RunEntropy: 4.3512900565084776\nComputed original_glrlm_RunLengthNonUniformity: 706.3122297028629\nComputed original_glrlm_RunLengthNonUniformityNormalized: 0.5906881726064291\nComputed original_glrlm_RunPercentage: 0.7389956602603843\nComputed original_glrlm_RunVariance: 0.49743815214973697\nComputed original_glrlm_ShortRunEmphasis: 0.7957792113061697\nComputed original_glrlm_ShortRunHighGrayLevelEmphasis: 54.47554294926175\nComputed original_glrlm_ShortRunLowGrayLevelEmphasis: 0.019311866390709986\nComputed original_glszm_GrayLevelNonUniformity: 51.70781893004115\nComputed original_glszm_GrayLevelNonUniformityNormalized: 0.10639468915646327\nComputed original_glszm_GrayLevelVariance: 7.913144168402514\nComputed original_glszm_HighGrayLevelZoneEmphasis: 75.7551440329218\nComputed original_glszm_LargeAreaEmphasis: 32.76337448559671\nComputed original_glszm_LargeAreaHighGrayLevelEmphasis: 1791.619341563786\nComputed original_glszm_LargeAreaLowGrayLevelEmphasis: 0.7601097600010079\nComputed original_glszm_LowGrayLevelZoneEmphasis: 0.024750203311598506\nComputed original_glszm_SizeZoneNonUniformity: 138.33744855967078\nComputed original_glszm_SizeZoneNonUniformityNormalized: 0.2846449558840963\nComputed original_glszm_SmallAreaEmphasis: 0.548584941953643\nComputed original_glszm_SmallAreaHighGrayLevelEmphasis: 45.846123357360774\nComputed original_glszm_SmallAreaLowGrayLevelEmphasis: 0.0134735619544503\nComputed original_glszm_ZoneEntropy: 5.821651880273794\nComputed original_glszm_ZonePercentage: 0.3013019218846869\nComputed original_glszm_ZoneVariance: 21.748077867533745\nComputed original_gldm_DependenceEntropy: 5.60258140878932\nComputed original_gldm_DependenceNonUniformity: 310.11965282083077\nComputed original_gldm_DependenceNonUniformityNormalized: 0.19226264898997567\nComputed original_gldm_DependenceVariance: 2.147240588999254\nComputed original_gldm_GrayLevelNonUniformity: 213.79479231246125\nComputed original_gldm_GrayLevelVariance: 5.482193845802606\nComputed original_gldm_HighGrayLevelEmphasis: 64.13329200247985\nComputed original_gldm_LargeDependenceEmphasis: 11.683199008059516\nComputed original_gldm_LargeDependenceHighGrayLevelEmphasis: 669.8431494110354\nComputed original_gldm_LargeDependenceLowGrayLevelEmphasis: 0.26823495486621673\nComputed original_gldm_LowGrayLevelEmphasis: 0.023846439249970642\nComputed original_gldm_SmallDependenceEmphasis: 0.2517966242603675\nComputed original_gldm_SmallDependenceHighGrayLevelEmphasis: 19.23276791249668\nComputed original_gldm_SmallDependenceLowGrayLevelEmphasis: 0.006129991095998868\n"
     ]
    }
   ],
   "source": [
    "# Show output\n",
    "for featureName in featureVector.keys():\n",
    "    print('Computed %s: %s' % (featureName, featureVector[featureName]))"
   ]
  }
 ],
 "metadata": {
  "kernelspec": {
   "name": "python3",
   "display_name": "Python 3",
   "language": "python"
  },
  "language_info": {
   "codemirror_mode": {
    "name": "ipython",
    "version": 2
   },
   "file_extension": ".py",
   "mimetype": "text/x-python",
   "name": "python",
   "nbconvert_exporter": "python",
   "pygments_lexer": "ipython2",
   "version": "3.9.2"
  }
 },
 "nbformat": 4,
 "nbformat_minor": 0
}